{
 "cells": [
  {
   "cell_type": "markdown",
   "id": "fcdcb3d0-62af-41df-9fad-fcb84f5af016",
   "metadata": {},
   "source": [
    "# Drone Trajectory Planner\n",
    "\n",
    "In this project, we will develop the drone trajectory planner. This notebook serves as the main file for the project, where we will refer to the instructions and demonstrate our code.\n",
    "\n",
    "Please follow week by week instructions, which includes writing the code in the `src/` folder."
   ]
  },
  {
   "cell_type": "code",
   "execution_count": 1,
   "id": "83a63ad4-c249-484a-99e2-d9724aa5d41e",
   "metadata": {},
   "outputs": [],
   "source": [
    "# Import all the files and libraries required for the project\n",
    "%load_ext autoreload\n",
    "%autoreload 2\n",
    "import copy\n",
    "    \n",
    "import numpy as np\n",
    "\n",
    "from src.camera_utils import compute_image_footprint_on_surface, compute_ground_sampling_distance, project_world_point_to_image, reproject_image_point_to_world\n",
    "from src.data_model import Camera, DatasetSpec\n",
    "from src.plan_computation import compute_distance_between_images, compute_speed_during_photo_capture, generate_photo_plan_on_grid\n",
    "from src.visualization import plot_photo_plan"
   ]
  },
  {
   "cell_type": "markdown",
   "id": "44eb7f16-9094-4bc8-8ce7-065991ea0b78",
   "metadata": {},
   "source": [
    "# Week 1: Introduction\n",
    "\n",
    "No code contribution expected this week"
   ]
  },
  {
   "cell_type": "markdown",
   "id": "0c08643e-1e37-4614-bc8f-b5636127b345",
   "metadata": {},
   "source": [
    "# Week 2: Camera System Modeling and Operations\n",
    "\n",
    "We plan to\n",
    "- Model the simple pinhole camera system\n",
    "- Write utility functions to\n",
    "    - project a 3D world point to an image\n",
    "    - Compute image footprint on a surface\n",
    "    - Compute the Ground Sampling Distance"
   ]
  },
  {
   "cell_type": "markdown",
   "id": "c65c8b8f-6f33-4cd4-8c3a-74acbdbd2c7d",
   "metadata": {},
   "source": [
    "## Model the camera parameters\n",
    "\n",
    "We want to model the following camera parameters in Python:\n",
    "- focal length along x axis (in pixels)\n",
    "- focal length along y axis (in pixels)\n",
    "- optical center of the image along the x axis (in pixels)\n",
    "- optical center of the image along the y axis (in pixels)\n",
    "- Size of the sensor along the x axis (in mm)\n",
    "- Size of the sensor along the y axis (in mm)\n",
    "- Number of pixels in the image along the x axis\n",
    "- Number of pixels in the image along the y axis\n",
    "\n",
    "I recommend to use `dataclasses` ([Python documentation](https://docs.python.org/3/library/dataclasses.html), [Blog](https://www.dataquest.io/blog/how-to-use-python-data-classes/) to model these parameters.\n",
    "\n",
    "$\\color{red}{\\text{TODO: }}$ Implement `Camera` in `src/data_model.py`"
   ]
  },
  {
   "cell_type": "code",
   "execution_count": 2,
   "id": "51f75a3f-b1b1-4087-b9ea-6d5b245ab0fc",
   "metadata": {},
   "outputs": [],
   "source": [
    "# Define the parameters for Skydio VT300L - Wide camera\n",
    "# Ref: https://support.skydio.com/hc/en-us/articles/20866347470491-Skydio-X10-camera-and-metadata-overview\n",
    "fx = 4938.56\n",
    "fy = 4936.49\n",
    "cx = 4095.5\n",
    "cy = 3071.5\n",
    "sensor_size_x_mm = 13.107 # single pixel size * number of pixels in X dimension\n",
    "sensor_size_y_mm = 9.830 # single pixel size * number of pixels in Y dimension\n",
    "image_size_x = 8192\n",
    "image_size_y = 6144\n",
    "\n",
    "camera_x10 = Camera(fx, fy, cx, cy, sensor_size_x_mm, sensor_size_y_mm, image_size_x, image_size_y)"
   ]
  },
  {
   "cell_type": "code",
   "execution_count": 3,
   "id": "d0c3834b-6ae4-49b2-8a4f-9a50a08c2cb7",
   "metadata": {},
   "outputs": [
    {
     "name": "stdout",
     "output_type": "stream",
     "text": [
      "X10 camera model: Camera(fx=4938.56, fy=4936.49, cx=4095.5, cy=3071.5, sensor_size_x_mm=13.107, sensor_size_y_mm=9.83, image_size_x_px=8192, image_size_y_px=6144)\n"
     ]
    }
   ],
   "source": [
    "print(f\"X10 camera model: {camera_x10}\")"
   ]
  },
  {
   "cell_type": "markdown",
   "id": "1f1db4d3-824e-49b9-af3a-dbeb3323625a",
   "metadata": {},
   "source": [
    "## Project 3D world points into the image\n",
    "\n",
    "\n",
    "![Camera Projection](assets/image_projection.png)\n",
    "Reference: [Robert Collins CSE483](https://www.cse.psu.edu/~rtc12/CSE486/lecture12.pdf)\n",
    "\n",
    "\n",
    "Equations to implement:\n",
    "$$ x = f_x \\frac{X}{Z} $$\n",
    "$$ y = f_y \\frac{Y}{Z} $$\n",
    "$$ u = x + c_x $$\n",
    "$$ v = y + c_y $$\n",
    "\n",
    "$\\color{red}{\\text{TODO: }}$ Implement function `project_world_point_to_image` in `src/camera_utils.py`"
   ]
  },
  {
   "cell_type": "code",
   "execution_count": 4,
   "id": "4a3bd4c0-188b-4f95-98c9-95bb351e2d59",
   "metadata": {},
   "outputs": [
    {
     "name": "stdout",
     "output_type": "stream",
     "text": [
      "[ 25. -30.  50.] projected to [6564.78     109.60588]\n"
     ]
    }
   ],
   "source": [
    "point_3d = np.array([25, -30, 50], dtype=np.float32)\n",
    "expected_uv = np.array([6564.80, 109.60], dtype=np.float32)\n",
    "uv = project_world_point_to_image(camera_x10, point_3d)\n",
    "\n",
    "print(f\"{point_3d} projected to {uv}\")\n",
    "\n",
    "assert np.allclose(uv, expected_uv, atol=1e-2)"
   ]
  },
  {
   "cell_type": "markdown",
   "id": "cf58acce-ca40-492d-9281-791c05c92776",
   "metadata": {},
   "source": [
    "## Compute Image Footprint on the surface\n",
    "\n",
    "We have written code to *project* a 3D point into the image. The reverse operation is reprojection, where we take $(x, y)$ and compute the $(X, Y)$ for a given value of $Z$. Note that while going from 3D to 2D, the depth becomes ambiguous so we need the to specify the $Z$.\n",
    "\n",
    "An image's footprint is the area on the surface which is captured by the image. We can take the two corners of the image and reproject them at a given distance to obtain the width and length of the image.\n",
    "\n",
    "$\\color{red}{\\text{TODO: }}$ Implement function `compute_image_footprint_on_surface` in `src/camera_utils.py`"
   ]
  },
  {
   "cell_type": "code",
   "execution_count": 5,
   "id": "9d3e87ae-2123-4362-bf6e-279e6afb360c",
   "metadata": {},
   "outputs": [
    {
     "name": "stdout",
     "output_type": "stream",
     "text": [
      "Footprint at 100m = [165.87831 124.4609 ]\n"
     ]
    }
   ],
   "source": [
    "footprint_at_100m = compute_image_footprint_on_surface(camera_x10, 100)\n",
    "expected_footprint_at_100m = np.array([165.88, 124.46], dtype=np.float32)\n",
    "\n",
    "print(f\"Footprint at 100m = {footprint_at_100m}\")\n",
    "\n",
    "assert np.allclose(footprint_at_100m, expected_footprint_at_100m, atol=1e-2)\n"
   ]
  },
  {
   "cell_type": "code",
   "execution_count": 6,
   "id": "bf7af93f-e95b-40e2-b607-39020015381b",
   "metadata": {},
   "outputs": [
    {
     "name": "stdout",
     "output_type": "stream",
     "text": [
      "Footprint at 200m = [331.75662 248.9218 ]\n"
     ]
    }
   ],
   "source": [
    "footprint_at_200m = compute_image_footprint_on_surface(camera_x10, 200)\n",
    "expected_footprint_at_200m = expected_footprint_at_100m * 2\n",
    "\n",
    "print(f\"Footprint at 200m = {footprint_at_200m}\")\n",
    "\n",
    "assert np.allclose(footprint_at_200m, expected_footprint_at_200m, atol=1e-2)"
   ]
  },
  {
   "cell_type": "markdown",
   "id": "84486ad6-a4c5-4e5a-ba40-ad125ced7d3d",
   "metadata": {},
   "source": [
    "## Ground Sampling Distance\n",
    "\n",
    "Ground sampling distance is the length of the ground (in m) captured by a single pixel. We have the image footpring (the dimensions of ground captured by the whole sensor, and the number of pixels along the horizontal and vertical dimension. Can we get GSD from these two quantities?"
   ]
  },
  {
   "cell_type": "code",
   "execution_count": 7,
   "id": "f21aa3d1-08be-4bce-8554-ec834ad000bf",
   "metadata": {},
   "outputs": [
    {
     "name": "stdout",
     "output_type": "stream",
     "text": [
      "GSD at 100m: 0.020248817469059804\n"
     ]
    }
   ],
   "source": [
    "gsd_at_100m = compute_ground_sampling_distance(camera_x10, 100)\n",
    "expected_gsd_at_100m = 0.0202\n",
    "\n",
    "print(f\"GSD at 100m: {gsd_at_100m}\")\n",
    "\n",
    "assert np.allclose(gsd_at_100m, expected_gsd_at_100m, atol=1e-4)"
   ]
  },
  {
   "cell_type": "markdown",
   "id": "47477599-e78b-46d4-9cac-725bcbb5e6eb",
   "metadata": {},
   "source": [
    "## Bonus: Reprojection from 2D to 3D\n",
    "\n",
    "If we have a 2d pixel location of a point along with the camera model, can we go back to 3D?\n",
    "Do we need any additional information.\n",
    "\n",
    "\n",
    "$\\color{red}{\\text{TODO: }}$ Implement function `reproject_image_point_to_world` in `src/camera_utils.py` and demonstrate it by running it in the notebook. Confirm that your reprojection + projection function are consistent."
   ]
  },
  {
   "cell_type": "markdown",
   "id": "cdbb50b1",
   "metadata": {},
   "source": [
    "We need the distance from the object in order to go from 2D to 3D.  Without this, different 3D positions are possible based on the same 2D point."
   ]
  },
  {
   "cell_type": "code",
   "execution_count": 8,
   "id": "3f34fe7a",
   "metadata": {},
   "outputs": [
    {
     "name": "stdout",
     "output_type": "stream",
     "text": [
      "3D point: [ 25. -30.  50.]\n",
      "Projected 2D point: [6564.78     109.60588]\n",
      "Reprojected 3D point: [ 24.999998 -30.000002  50.      ]\n"
     ]
    }
   ],
   "source": [
    "#using the example from above:\n",
    "point_3d = np.array([25, -30, 50], dtype=np.float32)\n",
    "print(\"3D point: \" + str(point_3d))\n",
    "\n",
    "uv = project_world_point_to_image(camera_x10, point_3d)\n",
    "print(\"Projected 2D point: \" + str(uv))\n",
    "\n",
    "reprojected_point_3d = reproject_image_point_to_world(camera_x10, uv, point_3d[2])\n",
    "print(\"Reprojected 3D point: \" + str(reprojected_point_3d))\n",
    "\n",
    "assert np.allclose(point_3d, reprojected_point_3d, atol=1e-4)"
   ]
  },
  {
   "cell_type": "markdown",
   "id": "59349449-f7ed-4e2f-aa80-17a2fabf51f1",
   "metadata": {},
   "source": [
    "# Week 3: Model the user requirements\n",
    "\n",
    "For this week, we will model the dataset specifications.\n",
    "\n",
    "- Overlap: the ratio (in 0 to 1) of scene shared between two consecutive images.\n",
    "- Sidelap: the ratio (in 0 to 1) of scene shared between two images in adjacent rows.\n",
    "- Height: the height of the scan above the ground (in meters).\n",
    "- Scan_dimension_x: the horizontal size of the rectangle to be scanned\n",
    "- Scan_dimension_y: the vertical size of the rectangle to be scanned\n",
    "- exposure_time_ms: the exposure time for each image (in milliseconds).\n",
    "\n",
    "\n",
    "$\\color{red}{\\text{TODO: }}$ Implement `DatasetSpec` in `src/data_model.py`\n"
   ]
  },
  {
   "cell_type": "code",
   "execution_count": 9,
   "id": "38206e65-458d-4d0d-b3fc-7e45039c0b64",
   "metadata": {},
   "outputs": [
    {
     "name": "stdout",
     "output_type": "stream",
     "text": [
      "Nominal specs: DatasetSpec(overlap=0.7, sidelap=0.7, height=30.48, scan_dimension_x=150, scan_dimension_y=150, exposure_time_ms=2)\n"
     ]
    }
   ],
   "source": [
    "# Model the nomimal dataset spec\n",
    "\n",
    "overlap = 0.7\n",
    "sidelap = 0.7\n",
    "height = 30.48 # 100 ft\n",
    "scan_dimension_x = 150\n",
    "scan_dimension_y = 150\n",
    "exposure_time_ms = 2 # 1/500 exposure time\n",
    "\n",
    "dataset_spec = DatasetSpec(overlap, sidelap, height, scan_dimension_x, scan_dimension_y, exposure_time_ms)\n",
    "\n",
    "print(f\"Nominal specs: {dataset_spec}\")"
   ]
  },
  {
   "cell_type": "markdown",
   "id": "135a5201-bcbc-4e57-9201-31d3dbb50005",
   "metadata": {},
   "source": [
    "# Week 4: Compute Distance Between Photos\n",
    "\n",
    "The overlap and sidelap are the ratio of the dimensions shared between two photos. We already know the footprint of a single image at a given distance. Can we convert the ratio into actual distances? And how does the distance on the surface relate to distance travelled by the camera?\n",
    "\n",
    "$\\color{red}{\\text{TODO: }}$ Implement `compute_distance_between_images` in `src/plan_computation.py`\n",
    "\n"
   ]
  },
  {
   "cell_type": "markdown",
   "id": "cbaa213d",
   "metadata": {},
   "source": [
    "<h4>Can we convert the ratio into actual distances? </h4>\n",
    "\n",
    "<p>Yes</p>\n",
    "\n",
    "<h4>And how does the distance on the surface relate to distance travelled by the camera?</h4>\n",
    "\n",
    "<p>The distance between images does not affect the distance travelled by the camera.  The amount of area on the surface that needs to be captured is directly proportional to the distance the camera must travel.  Increasing the frequency of images does not change the distance the camera needs to go.</p>"
   ]
  },
  {
   "cell_type": "code",
   "execution_count": 10,
   "id": "70b32a91-2577-46ec-bb07-9a0a5fd01243",
   "metadata": {},
   "outputs": [
    {
     "name": "stdout",
     "output_type": "stream",
     "text": [
      "Computed distance for X10 camera with nominal dataset specs: [15.167913 11.380705]\n"
     ]
    }
   ],
   "source": [
    "computed_distances = compute_distance_between_images(camera_x10, dataset_spec)\n",
    "expected_distances = np.array([15.17, 11.38], dtype=np.float32)\n",
    "\n",
    "print(f\"Computed distance for X10 camera with nominal dataset specs: {computed_distances}\")\n",
    "\n",
    "assert np.allclose(computed_distances, expected_distances, atol=1e-2)"
   ]
  },
  {
   "cell_type": "markdown",
   "id": "5474e7ac-28bb-4ab3-ad8d-cb5398d5696b",
   "metadata": {},
   "source": [
    "$\\color{red}{\\text{TODO: }}$ define more specifications/camera parameters and check the computed distances. Does that align with your expections\n"
   ]
  },
  {
   "cell_type": "code",
   "execution_count": 11,
   "id": "f7f9334a-6ee1-4aa4-8770-d0f48b36f18b",
   "metadata": {},
   "outputs": [
    {
     "name": "stdout",
     "output_type": "stream",
     "text": [
      "Computed Distances:\n",
      "\n",
      "Every camera parameter doubled: [15.167913 11.380705]\n",
      "Reduced Overlap: [25.279856 11.380705]\n",
      "Increased Overlap: [ 5.055971 11.380705]\n",
      "Reduced Sidelap: [15.167913 18.967842]\n",
      "Increased Sidelap: [15.167913   3.7935684]\n",
      "Reduced Height: [10.10199   7.579669]\n",
      "Increased Height: [19.955162 14.972647]\n",
      "Reduced Scan Dimmension: [15.167913 11.380705]\n",
      "Reduced Exposure Time: [15.167913 11.380705]\n"
     ]
    }
   ],
   "source": [
    "print(\"Computed Distances:\\n\")\n",
    "\n",
    "camera_ = copy.copy(camera_x10)\n",
    "\n",
    "camera_.cx *= 2\n",
    "camera_.cy *= 2\n",
    "camera_.fx *= 2\n",
    "camera_.fy *= 2\n",
    "camera_.image_size_x_px *= 2\n",
    "camera_.image_size_y_px *= 2\n",
    "camera_.sensor_size_x_mm *= 2\n",
    "camera_.sensor_size_y_mm *= 2\n",
    "\n",
    "dataset_spec_ = copy.copy(dataset_spec)\n",
    "\n",
    "computed_distances_ = compute_distance_between_images(camera_, dataset_spec_)\n",
    "print(f\"Every camera parameter doubled: {computed_distances_}\")\n",
    "\n",
    "camera_ = copy.copy(camera_x10)\n",
    "\n",
    "dataset_spec_.overlap = 0.5\n",
    "\n",
    "computed_distances_ = compute_distance_between_images(camera_, dataset_spec_)\n",
    "print(f\"Reduced Overlap: {computed_distances_}\")\n",
    "\n",
    "dataset_spec_.overlap = 0.9\n",
    "\n",
    "computed_distances_ = compute_distance_between_images(camera_, dataset_spec_)\n",
    "print(f\"Increased Overlap: {computed_distances_}\")\n",
    "\n",
    "dataset_spec_.overlap = 0.7\n",
    "dataset_spec_.sidelap = 0.5\n",
    "\n",
    "computed_distances_ = compute_distance_between_images(camera_, dataset_spec_)\n",
    "print(f\"Reduced Sidelap: {computed_distances_}\")\n",
    "\n",
    "dataset_spec_.sidelap = 0.9\n",
    "\n",
    "computed_distances_ = compute_distance_between_images(camera_, dataset_spec_)\n",
    "print(f\"Increased Sidelap: {computed_distances_}\")\n",
    "\n",
    "dataset_spec_.sidelap = 0.7\n",
    "dataset_spec_.height = 20.3\n",
    "\n",
    "computed_distances_ = compute_distance_between_images(camera_, dataset_spec_)\n",
    "print(f\"Reduced Height: {computed_distances_}\")\n",
    "\n",
    "dataset_spec_.height = 40.1\n",
    "\n",
    "computed_distances_ = compute_distance_between_images(camera_, dataset_spec_)\n",
    "print(f\"Increased Height: {computed_distances_}\")\n",
    "\n",
    "dataset_spec_.height = 30.48\n",
    "dataset_spec_.scan_dimension_x = 100\n",
    "dataset_spec_.scan_dimension_y = 100\n",
    "\n",
    "computed_distances_ = compute_distance_between_images(camera_, dataset_spec_)\n",
    "print(f\"Reduced Scan Dimmension: {computed_distances_}\")\n",
    "\n",
    "dataset_spec_.scan_dimension_x = 150\n",
    "dataset_spec_.scan_dimension_y = 150\n",
    "dataset_spec_.exposure_time_ms = 1\n",
    "\n",
    "computed_distances_ = compute_distance_between_images(camera_, dataset_spec_)\n",
    "print(f\"Reduced Exposure Time: {computed_distances_}\")"
   ]
  },
  {
   "cell_type": "markdown",
   "id": "6e98595f",
   "metadata": {},
   "source": [
    "These results are in general what I expected, although it was interesting to see the degree to which things changes based on changes to different parameters."
   ]
  },
  {
   "cell_type": "markdown",
   "id": "cea6d39a-89af-42bc-bb63-2d22380dec1f",
   "metadata": {},
   "source": [
    "## Bonus: Non-Nadir photos\n",
    "\n",
    "We have solved for the distance assuming that the camera is facing straight down to the ground. This is called [Nadir scanning](https://support.esri.com/en-us/gis-dictionary/nadir). However, in practise we might want a custom gimbal angle.\n",
    "\n",
    "Your bonus task is to make the distance computation general. Introduce the `camera_angle` parameter in the dataset specification, and work out how to adapt your computation. Feel free to reach out to Ayush to discuss ideas and assumptions!"
   ]
  },
  {
   "cell_type": "markdown",
   "id": "8dfc13a5-d13d-4930-a47b-2851e5458ceb",
   "metadata": {},
   "source": [
    "# Week 5: Compute Maximum Speed For Blur Free Photos\n",
    "\n",
    "To restrict motion blur due to camera movement to tolerable limits, we need to restrict the speed such that the image contents move less than 1px away. \n",
    "\n",
    "How much does 1px of movement translate to movement of the scene on the ground? It is the ground sampling distance!\n",
    "From previous week, we know that this is the maximum movement the camera can have. \n",
    "We have the distance now. To get speed we need to divide it with time. Do we have time already in our data models?\n",
    "\n",
    "$\\color{red}{\\text{TODO: }}$ Implement `compute_speed_during_photo_capture` in `src/plan_computation.py`."
   ]
  },
  {
   "cell_type": "code",
   "execution_count": 12,
   "id": "1292957c-d66f-4ac9-bb6f-1dc783d1a5aa",
   "metadata": {},
   "outputs": [
    {
     "name": "stdout",
     "output_type": "stream",
     "text": [
      "Computed speed during photo captures: 3.09\n"
     ]
    }
   ],
   "source": [
    "computed_speed = compute_speed_during_photo_capture(camera_x10, dataset_spec, allowed_movement_px=1)\n",
    "expected_speed = 3.09\n",
    "\n",
    "print(f\"Computed speed during photo captures: {computed_speed:.2f}\")\n",
    "\n",
    "assert np.allclose(computed_speed, expected_speed, atol=1e-2)"
   ]
  },
  {
   "cell_type": "markdown",
   "id": "b7fe63d9-c416-4bbf-b0ce-8c678de681de",
   "metadata": {},
   "source": [
    "$\\color{red}{\\text{TODO: }}$ define more specifications/camera parameters and check the computed distances. Does that align with your expections\n"
   ]
  },
  {
   "cell_type": "code",
   "execution_count": 13,
   "id": "85212946-83d0-475c-9740-e04d10a1ec32",
   "metadata": {},
   "outputs": [
    {
     "name": "stdout",
     "output_type": "stream",
     "text": [
      "Computed Distances:\n",
      "\n",
      "Every camera parameter doubled: 1.5429598911423572\n",
      "Reduced Overlap: 3.0859197822847144\n",
      "Increased Overlap: 3.0859197822847144\n",
      "Reduced Sidelap: 3.0859197822847144\n",
      "Increased Sidelap: 3.0859197822847144\n",
      "Reduced Height: 2.0552549731095704\n",
      "Increased Height: 4.059887902546492\n",
      "Reduced Scan Dimmension: 3.0859197822847144\n",
      "Reduced Exposure Time: 6.171839564569429\n"
     ]
    }
   ],
   "source": [
    "print(\"Computed Distances:\\n\")\n",
    "\n",
    "camera_ = copy.copy(camera_x10)\n",
    "\n",
    "camera_.cx *= 2\n",
    "camera_.cy *= 2\n",
    "camera_.fx *= 2\n",
    "camera_.fy *= 2\n",
    "camera_.image_size_x_px *= 2\n",
    "camera_.image_size_y_px *= 2\n",
    "camera_.sensor_size_x_mm *= 2\n",
    "camera_.sensor_size_y_mm *= 2\n",
    "\n",
    "dataset_spec_ = copy.copy(dataset_spec)\n",
    "\n",
    "computed_distances_ = compute_speed_during_photo_capture(camera_, dataset_spec_)\n",
    "print(f\"Every camera parameter doubled: {computed_distances_}\")\n",
    "\n",
    "camera_ = copy.copy(camera_x10)\n",
    "\n",
    "dataset_spec_.overlap = 0.5\n",
    "\n",
    "computed_distances_ = compute_speed_during_photo_capture(camera_, dataset_spec_)\n",
    "print(f\"Reduced Overlap: {computed_distances_}\")\n",
    "\n",
    "dataset_spec_.overlap = 0.9\n",
    "\n",
    "computed_distances_ = compute_speed_during_photo_capture(camera_, dataset_spec_)\n",
    "print(f\"Increased Overlap: {computed_distances_}\")\n",
    "\n",
    "dataset_spec_.overlap = 0.7\n",
    "dataset_spec_.sidelap = 0.5\n",
    "\n",
    "computed_distances_ = compute_speed_during_photo_capture(camera_, dataset_spec_)\n",
    "print(f\"Reduced Sidelap: {computed_distances_}\")\n",
    "\n",
    "dataset_spec_.sidelap = 0.9\n",
    "\n",
    "computed_distances_ = compute_speed_during_photo_capture(camera_, dataset_spec_)\n",
    "print(f\"Increased Sidelap: {computed_distances_}\")\n",
    "\n",
    "dataset_spec_.sidelap = 0.7\n",
    "dataset_spec_.height = 20.3\n",
    "\n",
    "computed_distances_ = compute_speed_during_photo_capture(camera_, dataset_spec_)\n",
    "print(f\"Reduced Height: {computed_distances_}\")\n",
    "\n",
    "dataset_spec_.height = 40.1\n",
    "\n",
    "computed_distances_ = compute_speed_during_photo_capture(camera_, dataset_spec_)\n",
    "print(f\"Increased Height: {computed_distances_}\")\n",
    "\n",
    "dataset_spec_.height = 30.48\n",
    "dataset_spec_.scan_dimension_x = 100\n",
    "dataset_spec_.scan_dimension_y = 100\n",
    "\n",
    "computed_distances_ = compute_speed_during_photo_capture(camera_, dataset_spec_)\n",
    "print(f\"Reduced Scan Dimmension: {computed_distances_}\")\n",
    "\n",
    "dataset_spec_.scan_dimension_x = 150\n",
    "dataset_spec_.scan_dimension_y = 150\n",
    "dataset_spec_.exposure_time_ms = 1\n",
    "\n",
    "computed_distances_ = compute_speed_during_photo_capture(camera_, dataset_spec_)\n",
    "print(f\"Reduced Exposure Time: {computed_distances_}\")"
   ]
  },
  {
   "cell_type": "markdown",
   "id": "851b974a",
   "metadata": {},
   "source": [
    "I used the same adjustments to the camera and dataspec as for part 4 to compare the differences.  I am not surprised by any of the results, but again it is interesting to see the way the numbers change based on a change in the input.  I think it's interesting to see how the same changes to input can affect the results from this week and from last week differently."
   ]
  },
  {
   "cell_type": "markdown",
   "id": "26d7075d-f520-43bd-8b8b-b36e9c6a6bc2",
   "metadata": {},
   "source": [
    "# Week 6: Generate Full Flight Plans  \n",
    "\n",
    "We now have all the tools to generate the full flight plan.\n",
    "\n",
    "Steps for this week:\n",
    "1. Define the `Waypoint` data model. What attributes should the data model have?\n",
    "   1. For Nadir scans, just the position of the camera is enough as we will always look drown to the ground.\n",
    "   2. For general case (bonus), we also need to define where the drone will look at@\n",
    "3. Implement the function `generate_photo_plan_on_grid` to generate the full plan.\n",
    "   1. Compute the maximum distance between two images, horizontally and vertically.\n",
    "   2. Layer the images such that we cover the whole scan area. Note that you need to take care when the scan dimension is not a multiple of distance between images. Example: to cover 45m length with 10m between images, we would need 4.5 images. Not possible. 4 images would not satisfy the overlap, so we should go with 5. How should we arrange 5 images in the given 45m.\n",
    "   3. Assign the speed to each waypoint.\n",
    "\n",
    "$\\color{red}{\\text{TODO: }}$ Implement:\n",
    "- `Waypoint` in `src/data_model.py`\n",
    "- `generate_photo_plan_on_grid` in `src/plan_computation.py`."
   ]
  },
  {
   "cell_type": "code",
   "execution_count": 25,
   "id": "7f1e5c3e-9974-4f50-9413-1b9c5b523051",
   "metadata": {},
   "outputs": [
    {
     "name": "stdout",
     "output_type": "stream",
     "text": [
      "Computed plan with 165 waypoints\n"
     ]
    }
   ],
   "source": [
    "computed_plan = generate_photo_plan_on_grid(camera_x10, dataset_spec) \n",
    "\n",
    "print(f\"Computed plan with {len(computed_plan)} waypoints\")"
   ]
  },
  {
   "cell_type": "code",
   "execution_count": 24,
   "id": "71f3bf15-c584-44da-a789-c821acb3f9a6",
   "metadata": {},
   "outputs": [
    {
     "name": "stdout",
     "output_type": "stream",
     "text": [
      "Idx 0: Waypoint(x_pos=0.0, y_pos=0.0, z_pos=30.48, max_speed=3.0859197822847144)\n",
      "Idx 1: Waypoint(x_pos=15.0, y_pos=0.0, z_pos=30.48, max_speed=3.0859197822847144)\n",
      "Idx 2: Waypoint(x_pos=30.0, y_pos=0.0, z_pos=30.48, max_speed=3.0859197822847144)\n",
      "Idx 3: Waypoint(x_pos=45.0, y_pos=0.0, z_pos=30.48, max_speed=3.0859197822847144)\n",
      "Idx 4: Waypoint(x_pos=60.0, y_pos=0.0, z_pos=30.48, max_speed=3.0859197822847144)\n",
      "Idx 5: Waypoint(x_pos=75.0, y_pos=0.0, z_pos=30.48, max_speed=3.0859197822847144)\n",
      "Idx 6: Waypoint(x_pos=90.0, y_pos=0.0, z_pos=30.48, max_speed=3.0859197822847144)\n",
      "Idx 7: Waypoint(x_pos=105.0, y_pos=0.0, z_pos=30.48, max_speed=3.0859197822847144)\n",
      "Idx 8: Waypoint(x_pos=120.0, y_pos=0.0, z_pos=30.48, max_speed=3.0859197822847144)\n",
      "Idx 9: Waypoint(x_pos=135.0, y_pos=0.0, z_pos=30.48, max_speed=3.0859197822847144)\n",
      "Idx 10: Waypoint(x_pos=150.0, y_pos=0.0, z_pos=30.48, max_speed=3.0859197822847144)\n",
      "Idx 11: Waypoint(x_pos=150.0, y_pos=10.714285714285714, z_pos=30.48, max_speed=3.0859197822847144)\n",
      "Idx 12: Waypoint(x_pos=135.0, y_pos=10.714285714285714, z_pos=30.48, max_speed=3.0859197822847144)\n",
      "Idx 13: Waypoint(x_pos=120.0, y_pos=10.714285714285714, z_pos=30.48, max_speed=3.0859197822847144)\n",
      "Idx 14: Waypoint(x_pos=105.0, y_pos=10.714285714285714, z_pos=30.48, max_speed=3.0859197822847144)\n",
      "Idx 15: Waypoint(x_pos=90.0, y_pos=10.714285714285714, z_pos=30.48, max_speed=3.0859197822847144)\n",
      "Idx 16: Waypoint(x_pos=75.0, y_pos=10.714285714285714, z_pos=30.48, max_speed=3.0859197822847144)\n",
      "Idx 17: Waypoint(x_pos=60.0, y_pos=10.714285714285714, z_pos=30.48, max_speed=3.0859197822847144)\n",
      "Idx 18: Waypoint(x_pos=45.0, y_pos=10.714285714285714, z_pos=30.48, max_speed=3.0859197822847144)\n",
      "Idx 19: Waypoint(x_pos=30.0, y_pos=10.714285714285714, z_pos=30.48, max_speed=3.0859197822847144)\n",
      "...\n"
     ]
    }
   ],
   "source": [
    "MAX_NUM_WAYPOINTS_TO_PRINT = 20\n",
    "\n",
    "for idx, waypoint in enumerate(computed_plan[:20]):\n",
    "    print(f\"Idx {idx}: {waypoint}\")\n",
    "if len(computed_plan) >= MAX_NUM_WAYPOINTS_TO_PRINT:\n",
    "    print(\"...\")"
   ]
  },
  {
   "cell_type": "markdown",
   "id": "5544587f-fff7-406a-be65-ad99c7217e51",
   "metadata": {},
   "source": [
    "## Bonus: Time computation \n",
    "\n",
    "if you have some time, you can implement a time computation function. We can make the drone fly as fast as possible between photos, but make sure it can decelerate back to the required speed at the photos. Please use the following data: \n",
    "- Max drone speed: 16m/s.\n",
    "- Max acceleration: 3.5 m/s^2.\n",
    "\n",
    "Hint: you might need to use a trapezoidal speed profile"
   ]
  },
  {
   "cell_type": "code",
   "execution_count": null,
   "id": "b2a450ce",
   "metadata": {},
   "outputs": [],
   "source": [
    "MAX_DRONE_SPEED = 16.0\n",
    "MAX_ACC = 3.5"
   ]
  },
  {
   "cell_type": "markdown",
   "id": "1a326c0e-86ff-443d-98ee-7a4fae0bfe81",
   "metadata": {},
   "source": [
    "# Week 7: Visualize Flight Plans\n",
    "\n",
    "This week, we will use a third party plotting framework called [Plotly](https://plotly.com/python/) to visualize our plans. Please follow this [tutorial](https://www.kaggle.com/code/kanncaa1/plotly-tutorial-for-beginners) to gain some basic experience with Plotly, and then come up with your own visualization function. You are free to choose to come up with your own visualization, and use something other than Plotly.\n",
    "\n",
    "$\\color{red}{\\text{TODO: }}$ Implement `plot_photo_plan` in `src/visualization.py`"
   ]
  },
  {
   "cell_type": "code",
   "execution_count": null,
   "id": "3996504a-28fc-48f1-8094-94d9a6bd58f9",
   "metadata": {},
   "outputs": [],
   "source": [
    "fig = plot_photo_plan(computed_plan)\n",
    "fig.show()"
   ]
  },
  {
   "cell_type": "markdown",
   "id": "74ff5833-f107-4332-974c-b9294e02a1da",
   "metadata": {},
   "source": [
    "$\\color{red}{\\text{TODO: }}$ Compute the following ablations (and any other you can think of)\n",
    "\n",
    "1. Change overlap and confirm it affects the consecutive images\n",
    "2. Change sidelap and confirm it does not affect the consecutive images\n",
    "3. Change the height of the scan and document the affect on scan plans\n",
    "4. Change exposure time"
   ]
  },
  {
   "cell_type": "code",
   "execution_count": null,
   "id": "7dbe090a-b696-4800-8373-6f4b3be02a87",
   "metadata": {},
   "outputs": [],
   "source": [
    "camera_ = copy.deepcopy(camera_x10)\n",
    "dataset_spec_ = copy.deepcopy(dataset_spec)\n",
    "\n",
    "dataset_spec_.exposure_time_ms = 1000\n",
    "\n",
    "print(camera_, dataset_spec_)\n",
    "\n",
    "fig = plot_photo_plan(generate_photo_plan_on_grid(camera_, dataset_spec_))\n",
    "fig.show()"
   ]
  }
 ],
 "metadata": {
  "kernelspec": {
   "display_name": "Python 3",
   "language": "python",
   "name": "python3"
  },
  "language_info": {
   "codemirror_mode": {
    "name": "ipython",
    "version": 3
   },
   "file_extension": ".py",
   "mimetype": "text/x-python",
   "name": "python",
   "nbconvert_exporter": "python",
   "pygments_lexer": "ipython3",
   "version": "3.12.7"
  }
 },
 "nbformat": 4,
 "nbformat_minor": 5
}
